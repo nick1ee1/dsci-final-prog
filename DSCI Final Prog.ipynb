{
 "cells": [
  {
   "cell_type": "markdown",
   "id": "b36ecdc6",
   "metadata": {},
   "source": [
    "Nicholas Li\n",
    "Github repository: https://github.com/nick1ee1/dsci-final-prog.git"
   ]
  },
  {
   "cell_type": "markdown",
   "id": "050bec61",
   "metadata": {},
   "source": [
    "The topic for this project is to at the animals species that the WWF helped and see did the help burn there pop back up and what are the posible future for those animals."
   ]
  },
  {
   "cell_type": "code",
   "execution_count": 48,
   "id": "2f81c105",
   "metadata": {},
   "outputs": [],
   "source": [
    "import numpy as np\n",
    "import pandas as pd\n",
    "import matplotlib.pyplot as plt"
   ]
  },
  {
   "cell_type": "markdown",
   "id": "3cb7523a",
   "metadata": {},
   "source": [
    "All the data come from the WWF endangered species list(https://www.worldwildlife.org/species/directory?sort=extinction_status&direction=desc) and the population and population trend come from the IUCN Red List(https://www.iucnredlist.org/) "
   ]
  },
  {
   "cell_type": "markdown",
   "id": "0d72b79f",
   "metadata": {},
   "source": [
    "in the geaph 'en = Endangered', 'ce = Critically Endangered', 'vn = Vulnerable', 'lc = Least Concern','nt = Near Threatened', 'ex = extinct'"
   ]
  },
  {
   "cell_type": "code",
   "execution_count": 49,
   "id": "1215e990",
   "metadata": {},
   "outputs": [
    {
     "data": {
      "text/html": [
       "<div>\n",
       "<style scoped>\n",
       "    .dataframe tbody tr th:only-of-type {\n",
       "        vertical-align: middle;\n",
       "    }\n",
       "\n",
       "    .dataframe tbody tr th {\n",
       "        vertical-align: top;\n",
       "    }\n",
       "\n",
       "    .dataframe thead th {\n",
       "        text-align: right;\n",
       "    }\n",
       "</style>\n",
       "<table border=\"1\" class=\"dataframe\">\n",
       "  <thead>\n",
       "    <tr style=\"text-align: right;\">\n",
       "      <th></th>\n",
       "      <th>name</th>\n",
       "      <th>population</th>\n",
       "      <th>Pop. trend</th>\n",
       "      <th>area</th>\n",
       "      <th>status</th>\n",
       "      <th>threats</th>\n",
       "    </tr>\n",
       "  </thead>\n",
       "  <tbody>\n",
       "    <tr>\n",
       "      <th>0</th>\n",
       "      <td>Amur Leopard</td>\n",
       "      <td>84</td>\n",
       "      <td>inc</td>\n",
       "      <td>asia</td>\n",
       "      <td>ce</td>\n",
       "      <td>Illegal trade</td>\n",
       "    </tr>\n",
       "    <tr>\n",
       "      <th>1</th>\n",
       "      <td>Black Rhino</td>\n",
       "      <td>6000</td>\n",
       "      <td>inc</td>\n",
       "      <td>africa</td>\n",
       "      <td>ce</td>\n",
       "      <td>Illegal trade</td>\n",
       "    </tr>\n",
       "    <tr>\n",
       "      <th>2</th>\n",
       "      <td>Bornean Orangutan</td>\n",
       "      <td>104700</td>\n",
       "      <td>dec</td>\n",
       "      <td>asia</td>\n",
       "      <td>ce</td>\n",
       "      <td>Illegal trade</td>\n",
       "    </tr>\n",
       "    <tr>\n",
       "      <th>3</th>\n",
       "      <td>Cross River Gorilla</td>\n",
       "      <td>250</td>\n",
       "      <td>dec</td>\n",
       "      <td>africa</td>\n",
       "      <td>ce</td>\n",
       "      <td>hunting</td>\n",
       "    </tr>\n",
       "    <tr>\n",
       "      <th>4</th>\n",
       "      <td>Eastern Lowland Gorilla</td>\n",
       "      <td>2600</td>\n",
       "      <td>dec</td>\n",
       "      <td>africa</td>\n",
       "      <td>ce</td>\n",
       "      <td>habitat lost</td>\n",
       "    </tr>\n",
       "    <tr>\n",
       "      <th>5</th>\n",
       "      <td>Hawksbill Turtle</td>\n",
       "      <td>-1</td>\n",
       "      <td>dec</td>\n",
       "      <td>marine</td>\n",
       "      <td>ce</td>\n",
       "      <td>Illegal trade</td>\n",
       "    </tr>\n",
       "    <tr>\n",
       "      <th>6</th>\n",
       "      <td>Javan Rhino</td>\n",
       "      <td>18</td>\n",
       "      <td>sta</td>\n",
       "      <td>asia</td>\n",
       "      <td>ce</td>\n",
       "      <td>Illegal trade and habitat lost</td>\n",
       "    </tr>\n",
       "    <tr>\n",
       "      <th>7</th>\n",
       "      <td>Bornean Orangutan</td>\n",
       "      <td>104700</td>\n",
       "      <td>dec</td>\n",
       "      <td>asia</td>\n",
       "      <td>ce</td>\n",
       "      <td>Illegal trade and hunting</td>\n",
       "    </tr>\n",
       "    <tr>\n",
       "      <th>8</th>\n",
       "      <td>Sumatran Orangutan</td>\n",
       "      <td>13846</td>\n",
       "      <td>dec</td>\n",
       "      <td>asia</td>\n",
       "      <td>ce</td>\n",
       "      <td>Illegal trade and hunting</td>\n",
       "    </tr>\n",
       "    <tr>\n",
       "      <th>9</th>\n",
       "      <td>Tapanuli Orangutan</td>\n",
       "      <td>800</td>\n",
       "      <td>dec</td>\n",
       "      <td>asia</td>\n",
       "      <td>ce</td>\n",
       "      <td>Illegal trade and hunting</td>\n",
       "    </tr>\n",
       "    <tr>\n",
       "      <th>10</th>\n",
       "      <td>Saola</td>\n",
       "      <td>750</td>\n",
       "      <td>dec</td>\n",
       "      <td>asia</td>\n",
       "      <td>ce</td>\n",
       "      <td>habitat lost</td>\n",
       "    </tr>\n",
       "    <tr>\n",
       "      <th>11</th>\n",
       "      <td>Sumatran Elephant</td>\n",
       "      <td>2800</td>\n",
       "      <td>dec</td>\n",
       "      <td>un</td>\n",
       "      <td>ce</td>\n",
       "      <td>habitat lost</td>\n",
       "    </tr>\n",
       "    <tr>\n",
       "      <th>12</th>\n",
       "      <td>Sumatran Rhino</td>\n",
       "      <td>30</td>\n",
       "      <td>dec</td>\n",
       "      <td>asia</td>\n",
       "      <td>ce</td>\n",
       "      <td>Illegal trade and habitat lost</td>\n",
       "    </tr>\n",
       "    <tr>\n",
       "      <th>13</th>\n",
       "      <td>Sunda Tiger</td>\n",
       "      <td>400</td>\n",
       "      <td>dec</td>\n",
       "      <td>asia</td>\n",
       "      <td>ce</td>\n",
       "      <td>Illegal trade</td>\n",
       "    </tr>\n",
       "    <tr>\n",
       "      <th>14</th>\n",
       "      <td>Vaquita</td>\n",
       "      <td>18</td>\n",
       "      <td>dec</td>\n",
       "      <td>marine</td>\n",
       "      <td>ce</td>\n",
       "      <td>hunting</td>\n",
       "    </tr>\n",
       "  </tbody>\n",
       "</table>\n",
       "</div>"
      ],
      "text/plain": [
       "                       name  population Pop. trend    area status  \\\n",
       "0              Amur Leopard          84        inc    asia     ce   \n",
       "1               Black Rhino        6000        inc  africa     ce   \n",
       "2         Bornean Orangutan      104700        dec    asia     ce   \n",
       "3       Cross River Gorilla         250        dec  africa     ce   \n",
       "4   Eastern Lowland Gorilla        2600        dec  africa     ce   \n",
       "5          Hawksbill Turtle          -1        dec  marine     ce   \n",
       "6               Javan Rhino          18        sta    asia     ce   \n",
       "7         Bornean Orangutan      104700        dec    asia     ce   \n",
       "8        Sumatran Orangutan       13846        dec    asia     ce   \n",
       "9        Tapanuli Orangutan         800        dec    asia     ce   \n",
       "10                    Saola         750        dec    asia     ce   \n",
       "11        Sumatran Elephant        2800        dec      un     ce   \n",
       "12           Sumatran Rhino          30        dec    asia     ce   \n",
       "13              Sunda Tiger         400        dec    asia     ce   \n",
       "14                  Vaquita          18        dec  marine     ce   \n",
       "\n",
       "                           threats  \n",
       "0                    Illegal trade  \n",
       "1                    Illegal trade  \n",
       "2                    Illegal trade  \n",
       "3                          hunting  \n",
       "4                     habitat lost  \n",
       "5                    Illegal trade  \n",
       "6   Illegal trade and habitat lost  \n",
       "7        Illegal trade and hunting  \n",
       "8        Illegal trade and hunting  \n",
       "9        Illegal trade and hunting  \n",
       "10                    habitat lost  \n",
       "11                    habitat lost  \n",
       "12  Illegal trade and habitat lost  \n",
       "13                   Illegal trade  \n",
       "14                         hunting  "
      ]
     },
     "execution_count": 49,
     "metadata": {},
     "output_type": "execute_result"
    }
   ],
   "source": [
    "df = pd.read_csv(\"https://raw.githubusercontent.com/nick1ee1/dsci-final-prog/main/Dsci%20datas%20-%20Sheet1.csv\")\n",
    "df.head(15)"
   ]
  },
  {
   "cell_type": "markdown",
   "id": "86bb3784",
   "metadata": {},
   "source": [
    "Fitst let's plot the status of the species"
   ]
  },
  {
   "cell_type": "code",
   "execution_count": 50,
   "id": "d62f6b0f",
   "metadata": {},
   "outputs": [
    {
     "data": {
      "image/png": "[encoded data removed]",
      "text/plain": [
       "<Figure size 640x480 with 1 Axes>"
      ]
     },
     "metadata": {},
     "output_type": "display_data"
    }
   ],
   "source": [
    "count = df['status'].value_counts()\n",
    "ax =count.plot(kind='bar')\n",
    "\n",
    "ax.set_title('Number of Species in Each Endangerment Category')\n",
    "ax.set_xlabel('Endangerment Category')\n",
    "ax.set_ylabel('Number of Species')\n",
    "#ax.legend(['en = Endangered', 'ce = Critically Endangered', 'vn = Vulnerable', 'lc = Least Concern','nt = Near Threatened', 'ex = extinct'])\n",
    "\n",
    "plt.show()"
   ]
  },
  {
   "cell_type": "markdown",
   "id": "52202b4e",
   "metadata": {},
   "source": [
    "What area has the most endangered species based on the data?"
   ]
  },
  {
   "cell_type": "code",
   "execution_count": 51,
   "id": "8dd056c9",
   "metadata": {},
   "outputs": [
    {
     "data": {
      "text/plain": [
       "marine           31\n",
       "asia             17\n",
       "africa           13\n",
       "south america     7\n",
       "north america     7\n",
       "arctic            3\n",
       "un                1\n",
       "australia         1\n",
       "Name: area, dtype: int64"
      ]
     },
     "execution_count": 51,
     "metadata": {},
     "output_type": "execute_result"
    }
   ],
   "source": [
    "area = df['area'].str.split(',').explode().str.strip().value_counts()\n",
    "area"
   ]
  },
  {
   "cell_type": "markdown",
   "id": "66ee30fe",
   "metadata": {},
   "source": [
    "As shown in the result most of the endangered animals from WWF's list are marin life"
   ]
  },
  {
   "cell_type": "markdown",
   "id": "43c929e5",
   "metadata": {},
   "source": [
    "As we all know human is the bigest threat all the animals face,but what are the specific action that is causing these marin life to become endangered"
   ]
  },
  {
   "cell_type": "code",
   "execution_count": 52,
   "id": "8148bc14",
   "metadata": {},
   "outputs": [
    {
     "data": {
      "text/plain": [
       "hunting                           13\n",
       "climate change                     6\n",
       "habitat lost                       4\n",
       "na                                 3\n",
       "pollution                          2\n",
       "Illegal trade                      1\n",
       "pollution and human conflict       1\n",
       "Illegal trade and habitat lost     1\n",
       "Name: threats, dtype: int64"
      ]
     },
     "execution_count": 52,
     "metadata": {},
     "output_type": "execute_result"
    }
   ],
   "source": [
    "oce = df[(df['area'] == 'marine')]\n",
    "threats = oce['threats'].str.split(',').explode().str.strip().value_counts()\n",
    "threats\n",
    "#d = df[(df['area'] == 'marine') & (df['threats'].str.contains('hunting'))]"
   ]
  },
  {
   "cell_type": "markdown",
   "id": "ea68e7b5",
   "metadata": {},
   "source": [
    "As shown in the result, hunting (for marine life, fishing) is the most troubling problem a marine life faces. Many of those marine animals were hunted for their flesh, like shark fins. After they cut the fin, they let the shark back in the water, and without fins, a shark is going to have an extremely hard time getting food; they always die shortly after they are released."
   ]
  },
  {
   "cell_type": "markdown",
   "id": "7cda53cf",
   "metadata": {},
   "source": [
    "Based on the 50/500 rule(a minimum population size of 50 was necessary to combat inbreeding and a minimum of 500 individuals was needed to reduce genetic drift) how many have less than 50 and how many have less than 500?"
   ]
  },
  {
   "cell_type": "code",
   "execution_count": 53,
   "id": "92eaef49",
   "metadata": {},
   "outputs": [
    {
     "name": "stdout",
     "output_type": "stream",
     "text": [
      "The number of species with less than 50 in populations\n",
      "3\n",
      "6        Javan Rhino\n",
      "12    Sumatran Rhino\n",
      "14           Vaquita\n",
      "Name: name, dtype: object\n",
      "The number of species with less than 500 in populations\n",
      "55\n",
      "0                     Amur Leopard\n",
      "1                      Black Rhino\n",
      "2                Bornean Orangutan\n",
      "3              Cross River Gorilla\n",
      "4          Eastern Lowland Gorilla\n",
      "6                      Javan Rhino\n",
      "7                Bornean Orangutan\n",
      "8               Sumatran Orangutan\n",
      "9               Tapanuli Orangutan\n",
      "10                           Saola\n",
      "11               Sumatran Elephant\n",
      "12                  Sumatran Rhino\n",
      "13                     Sunda Tiger\n",
      "14                         Vaquita\n",
      "16        Yangtze Finless Porpoise\n",
      "18                African Wild Dog\n",
      "19                  Asian Elephant\n",
      "20             Black-footed Ferret\n",
      "21                      Blue Whale\n",
      "23                          Bonobo\n",
      "24                Bornean Elephant\n",
      "25                      Chimpanzee\n",
      "26                       Fin Whale\n",
      "27               Galápagos Penguin\n",
      "28            Ganges River Dolphin\n",
      "30                Hector's Dolphin\n",
      "32             Indus River Dolphin\n",
      "34               Monarch Butterfly\n",
      "35                Mountain Gorilla\n",
      "36      North Atlantic Right Whale\n",
      "37                       Red Panda\n",
      "38             Galápagos Sea Lions\n",
      "40                       Sei Whale\n",
      "41             Sri Lankan Elephant\n",
      "42                           Tiger\n",
      "46                          Dugong\n",
      "47                     Giant Panda\n",
      "50        Greater One-Horned Rhino\n",
      "51                    Hippopotamus\n",
      "53                            Lion\n",
      "55                   Marine Iguana\n",
      "57                      Polar Bear\n",
      "58                    Snow Leopard\n",
      "59     Southern rockhopper penguin\n",
      "61           Delphinapterus leucas\n",
      "62             Greater Sage-Grouse\n",
      "64                 Mountain Plover\n",
      "65                    Plains Bison\n",
      "66                     White Rhino\n",
      "70                   Bowhead Whale\n",
      "71                      Brown Bear\n",
      "72    Fiordland Bottlenose Dolphin\n",
      "73                      Gray Whale\n",
      "75                         Narwhal\n",
      "76                       Pronghorn\n",
      "Name: name, dtype: object\n"
     ]
    }
   ],
   "source": [
    "less50 = df[(df['population'] > 0) & (df['population'] < 50)]\n",
    "less500 = df[df['population'] > 50 & (df['population'] < 500)]\n",
    "print(\"The number of species with less than 50 in populations\")\n",
    "print(less50['name'].count())\n",
    "print(less50['name'])\n",
    "print(\"The number of species with less than 500 in populations\")\n",
    "print(less500['name'].count())\n",
    "print(less500['name'])"
   ]
  },
  {
   "cell_type": "markdown",
   "id": "5db41bd8",
   "metadata": {},
   "source": [
    "As shown in other research inbreeding can cause many defects for the new borns and will drastically reduc the rate of survival, thus having a population less than 50 will face a even harder challeng to come out of the endangered list,\n",
    "Although populations smaller than 500 won't have inbreeding problems, they still face the problem of genetic drift, which may cause gene variants to disappear completely and thereby reduce genetic variation."
   ]
  },
  {
   "cell_type": "markdown",
   "id": "bc718e1a",
   "metadata": {},
   "source": [
    "Now with the help of the foundation how many species are seeing an increase in their population?"
   ]
  },
  {
   "cell_type": "code",
   "execution_count": 54,
   "id": "45d84300",
   "metadata": {},
   "outputs": [
    {
     "data": {
      "text/html": [
       "<div>\n",
       "<style scoped>\n",
       "    .dataframe tbody tr th:only-of-type {\n",
       "        vertical-align: middle;\n",
       "    }\n",
       "\n",
       "    .dataframe tbody tr th {\n",
       "        vertical-align: top;\n",
       "    }\n",
       "\n",
       "    .dataframe thead th {\n",
       "        text-align: right;\n",
       "    }\n",
       "</style>\n",
       "<table border=\"1\" class=\"dataframe\">\n",
       "  <thead>\n",
       "    <tr style=\"text-align: right;\">\n",
       "      <th></th>\n",
       "      <th>name</th>\n",
       "      <th>population</th>\n",
       "      <th>Pop. trend</th>\n",
       "      <th>area</th>\n",
       "      <th>status</th>\n",
       "      <th>threats</th>\n",
       "    </tr>\n",
       "  </thead>\n",
       "  <tbody>\n",
       "    <tr>\n",
       "      <th>0</th>\n",
       "      <td>Amur Leopard</td>\n",
       "      <td>84</td>\n",
       "      <td>inc</td>\n",
       "      <td>asia</td>\n",
       "      <td>ce</td>\n",
       "      <td>Illegal trade</td>\n",
       "    </tr>\n",
       "    <tr>\n",
       "      <th>1</th>\n",
       "      <td>Black Rhino</td>\n",
       "      <td>6000</td>\n",
       "      <td>inc</td>\n",
       "      <td>africa</td>\n",
       "      <td>ce</td>\n",
       "      <td>Illegal trade</td>\n",
       "    </tr>\n",
       "    <tr>\n",
       "      <th>21</th>\n",
       "      <td>Blue Whale</td>\n",
       "      <td>15000</td>\n",
       "      <td>inc</td>\n",
       "      <td>marine</td>\n",
       "      <td>en</td>\n",
       "      <td>habitat lost</td>\n",
       "    </tr>\n",
       "    <tr>\n",
       "      <th>22</th>\n",
       "      <td>Bluefin Tuna</td>\n",
       "      <td>-1</td>\n",
       "      <td>inc</td>\n",
       "      <td>marine</td>\n",
       "      <td>en</td>\n",
       "      <td>hunting</td>\n",
       "    </tr>\n",
       "    <tr>\n",
       "      <th>32</th>\n",
       "      <td>Indus River Dolphin</td>\n",
       "      <td>1987</td>\n",
       "      <td>inc</td>\n",
       "      <td>marine</td>\n",
       "      <td>en</td>\n",
       "      <td>hunting</td>\n",
       "    </tr>\n",
       "    <tr>\n",
       "      <th>35</th>\n",
       "      <td>Mountain Gorilla</td>\n",
       "      <td>600</td>\n",
       "      <td>inc</td>\n",
       "      <td>africa</td>\n",
       "      <td>en</td>\n",
       "      <td>habitat lost</td>\n",
       "    </tr>\n",
       "    <tr>\n",
       "      <th>40</th>\n",
       "      <td>Sei Whale</td>\n",
       "      <td>50000</td>\n",
       "      <td>inc</td>\n",
       "      <td>marine</td>\n",
       "      <td>en</td>\n",
       "      <td>hunting</td>\n",
       "    </tr>\n",
       "    <tr>\n",
       "      <th>47</th>\n",
       "      <td>Giant Panda</td>\n",
       "      <td>1000</td>\n",
       "      <td>inc</td>\n",
       "      <td>asia</td>\n",
       "      <td>vn</td>\n",
       "      <td>habitat lost</td>\n",
       "    </tr>\n",
       "    <tr>\n",
       "      <th>50</th>\n",
       "      <td>Greater One-Horned Rhino</td>\n",
       "      <td>2200</td>\n",
       "      <td>inc</td>\n",
       "      <td>asia</td>\n",
       "      <td>vn</td>\n",
       "      <td>habitat lost</td>\n",
       "    </tr>\n",
       "    <tr>\n",
       "      <th>70</th>\n",
       "      <td>Bowhead Whale</td>\n",
       "      <td>10000</td>\n",
       "      <td>inc</td>\n",
       "      <td>marine</td>\n",
       "      <td>lc</td>\n",
       "      <td>climate change</td>\n",
       "    </tr>\n",
       "  </tbody>\n",
       "</table>\n",
       "</div>"
      ],
      "text/plain": [
       "                        name  population Pop. trend    area status  \\\n",
       "0               Amur Leopard          84        inc    asia     ce   \n",
       "1                Black Rhino        6000        inc  africa     ce   \n",
       "21                Blue Whale       15000        inc  marine     en   \n",
       "22              Bluefin Tuna          -1        inc  marine     en   \n",
       "32       Indus River Dolphin        1987        inc  marine     en   \n",
       "35          Mountain Gorilla         600        inc  africa     en   \n",
       "40                 Sei Whale       50000        inc  marine     en   \n",
       "47               Giant Panda        1000        inc    asia     vn   \n",
       "50  Greater One-Horned Rhino        2200        inc    asia     vn   \n",
       "70             Bowhead Whale       10000        inc  marine     lc   \n",
       "\n",
       "           threats  \n",
       "0    Illegal trade  \n",
       "1    Illegal trade  \n",
       "21    habitat lost  \n",
       "22         hunting  \n",
       "32         hunting  \n",
       "35    habitat lost  \n",
       "40         hunting  \n",
       "47    habitat lost  \n",
       "50    habitat lost  \n",
       "70  climate change  "
      ]
     },
     "execution_count": 54,
     "metadata": {},
     "output_type": "execute_result"
    }
   ],
   "source": [
    "inc = df[(df['Pop. trend'] == 'inc')]\n",
    "inc"
   ]
  },
  {
   "cell_type": "code",
   "execution_count": 55,
   "id": "37e1cdd1",
   "metadata": {},
   "outputs": [
    {
     "data": {
      "image/png": "[encoded data removed]",
      "text/plain": [
       "<Figure size 640x480 with 1 Axes>"
      ]
     },
     "metadata": {},
     "output_type": "display_data"
    }
   ],
   "source": [
    "mask = df['Pop. trend'] != 'un'\n",
    "dfn = df[mask]\n",
    "\n",
    "count = dfn['Pop. trend'].value_counts()\n",
    "ax =count.plot(kind='bar')\n",
    "\n",
    "ax.set_title('Population Trend of Species')\n",
    "ax.set_xlabel('Population Trend')\n",
    "ax.set_ylabel('Number of Species')\n",
    "#ax.legend(['en = Endangered', 'ce = Critically Endangered', 'vn = Vulnerable', 'lc = Least Concern','nt = Near Threatened', 'ex = extinct'])\n",
    "\n",
    "plt.show()"
   ]
  },
  {
   "cell_type": "markdown",
   "id": "3fe3297b",
   "metadata": {},
   "source": [
    "In conclusion with the help of the foundation, although most species are still decresing in numbers but some species have seen an increase or have stabilize in number "
   ]
  },
  {
   "cell_type": "code",
   "execution_count": null,
   "id": "a606d847",
   "metadata": {},
   "outputs": [],
   "source": []
  }
 ],
 "metadata": {
  "kernelspec": {
   "display_name": "Python 3 (ipykernel)",
   "language": "python",
   "name": "python3"
  },
  "language_info": {
   "codemirror_mode": {
    "name": "ipython",
    "version": 3
   },
   "file_extension": ".py",
   "mimetype": "text/x-python",
   "name": "python",
   "nbconvert_exporter": "python",
   "pygments_lexer": "ipython3",
   "version": "3.10.9"
  }
 },
 "nbformat": 4,
 "nbformat_minor": 5
}
